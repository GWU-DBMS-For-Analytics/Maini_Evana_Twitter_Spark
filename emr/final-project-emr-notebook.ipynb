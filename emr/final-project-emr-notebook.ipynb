{
 "cells": [
  {
   "cell_type": "code",
   "execution_count": 1,
   "id": "economic-article",
   "metadata": {},
   "outputs": [
    {
     "data": {
      "application/vnd.jupyter.widget-view+json": {
       "model_id": "609992f9f5134e918b4dad13bb005a91",
       "version_major": 2,
       "version_minor": 0
      },
      "text/plain": [
       "VBox()"
      ]
     },
     "metadata": {},
     "output_type": "display_data"
    },
    {
     "name": "stdout",
     "output_type": "stream",
     "text": [
      "Starting Spark application\n"
     ]
    },
    {
     "data": {
      "text/html": [
       "<table>\n",
       "<tr><th>ID</th><th>YARN Application ID</th><th>Kind</th><th>State</th><th>Spark UI</th><th>Driver log</th><th>Current session?</th></tr><tr><td>0</td><td>application_1618157387188_0001</td><td>pyspark</td><td>idle</td><td><a target=\"_blank\" href=\"http://ip-172-31-94-98.ec2.internal:20888/proxy/application_1618157387188_0001/\" class=\"emr-proxy-link\" emr-resource=\"j-2SRRXW3BGEL4E\n",
       "\" application-id=\"application_1618157387188_0001\">Link</a></td><td><a target=\"_blank\" href=\"http://ip-172-31-83-9.ec2.internal:8042/node/containerlogs/container_1618157387188_0001_01_000001/livy\" >Link</a></td><td>✔</td></tr></table>"
      ],
      "text/plain": [
       "<IPython.core.display.HTML object>"
      ]
     },
     "metadata": {},
     "output_type": "display_data"
    },
    {
     "data": {
      "application/vnd.jupyter.widget-view+json": {
       "model_id": "",
       "version_major": 2,
       "version_minor": 0
      },
      "text/plain": [
       "FloatProgress(value=0.0, bar_style='info', description='Progress:', layout=Layout(height='25px', width='50%'),…"
      ]
     },
     "metadata": {},
     "output_type": "display_data"
    },
    {
     "name": "stdout",
     "output_type": "stream",
     "text": [
      "SparkSession available as 'spark'.\n"
     ]
    },
    {
     "data": {
      "application/vnd.jupyter.widget-view+json": {
       "model_id": "",
       "version_major": 2,
       "version_minor": 0
      },
      "text/plain": [
       "FloatProgress(value=0.0, bar_style='info', description='Progress:', layout=Layout(height='25px', width='50%'),…"
      ]
     },
     "metadata": {},
     "output_type": "display_data"
    }
   ],
   "source": [
    "import pyspark"
   ]
  },
  {
   "cell_type": "code",
   "execution_count": 9,
   "id": "monthly-edition",
   "metadata": {},
   "outputs": [
    {
     "data": {
      "application/vnd.jupyter.widget-view+json": {
       "model_id": "dd6b2668cb95486d9f85e71f095176c0",
       "version_major": 2,
       "version_minor": 0
      },
      "text/plain": [
       "VBox()"
      ]
     },
     "metadata": {},
     "output_type": "display_data"
    },
    {
     "data": {
      "application/vnd.jupyter.widget-view+json": {
       "model_id": "",
       "version_major": 2,
       "version_minor": 0
      },
      "text/plain": [
       "FloatProgress(value=0.0, bar_style='info', description='Progress:', layout=Layout(height='25px', width='50%'),…"
      ]
     },
     "metadata": {},
     "output_type": "display_data"
    }
   ],
   "source": [
    "from pyspark.sql import functions as F"
   ]
  },
  {
   "cell_type": "code",
   "execution_count": 184,
   "id": "known-charlotte",
   "metadata": {},
   "outputs": [
    {
     "data": {
      "application/vnd.jupyter.widget-view+json": {
       "model_id": "5c09ead7e5504ba8b7c7e6b11f45ec74",
       "version_major": 2,
       "version_minor": 0
      },
      "text/plain": [
       "VBox()"
      ]
     },
     "metadata": {},
     "output_type": "display_data"
    },
    {
     "data": {
      "application/vnd.jupyter.widget-view+json": {
       "model_id": "",
       "version_major": 2,
       "version_minor": 0
      },
      "text/plain": [
       "FloatProgress(value=0.0, bar_style='info', description='Progress:', layout=Layout(height='25px', width='50%'),…"
      ]
     },
     "metadata": {},
     "output_type": "display_data"
    }
   ],
   "source": [
    "from pyspark.sql import SQLContext\n",
    "from pyspark.sql.types import *\n",
    "from pyspark.sql.types import IntegerType\n",
    "from pyspark.sql.functions import lower, col\n",
    "sqlContext = SQLContext(sc)"
   ]
  },
  {
   "cell_type": "code",
   "execution_count": 188,
   "id": "private-parts",
   "metadata": {},
   "outputs": [
    {
     "data": {
      "application/vnd.jupyter.widget-view+json": {
       "model_id": "b435dcccbfe446fdb0e8e181a52b9829",
       "version_major": 2,
       "version_minor": 0
      },
      "text/plain": [
       "VBox()"
      ]
     },
     "metadata": {},
     "output_type": "display_data"
    },
    {
     "data": {
      "application/vnd.jupyter.widget-view+json": {
       "model_id": "",
       "version_major": 2,
       "version_minor": 0
      },
      "text/plain": [
       "FloatProgress(value=0.0, bar_style='info', description='Progress:', layout=Layout(height='25px', width='50%'),…"
      ]
     },
     "metadata": {},
     "output_type": "display_data"
    }
   ],
   "source": [
    "input_bucket = 's3://final-project-spark-twitter-date'\n",
    "path_favorites = '/data/favorites.csv'\n",
    "path_friends = '/data/Friends.csv'\n",
    "path_retweets = '/data/Retweets.csv'\n",
    "path_statuses = '/data/statuses_colon.csv'\n",
    "path_users = '/data/users_colon.csv'"
   ]
  },
  {
   "cell_type": "code",
   "execution_count": 204,
   "id": "olympic-abraham",
   "metadata": {},
   "outputs": [
    {
     "data": {
      "application/vnd.jupyter.widget-view+json": {
       "model_id": "53d3984ab5d74584884ee374275e753e",
       "version_major": 2,
       "version_minor": 0
      },
      "text/plain": [
       "VBox()"
      ]
     },
     "metadata": {},
     "output_type": "display_data"
    },
    {
     "data": {
      "application/vnd.jupyter.widget-view+json": {
       "model_id": "",
       "version_major": 2,
       "version_minor": 0
      },
      "text/plain": [
       "FloatProgress(value=0.0, bar_style='info', description='Progress:', layout=Layout(height='25px', width='50%'),…"
      ]
     },
     "metadata": {},
     "output_type": "display_data"
    }
   ],
   "source": [
    "# reading in the different tables\n",
    "df_favorites = sqlContext.read.format('csv').option(\"inferSchema\", \"true\").option('header','true').load(input_bucket + path_favorites)\n",
    "df_friends = sqlContext.read.format('csv').option(\"inferSchema\", \"true\").option('header','true').load(input_bucket + path_friends)\n",
    "df_retweets = sqlContext.read.format('csv').option(\"inferSchema\", \"true\").option('header','true').load(input_bucket + path_retweets)\n",
    "df_statuses = sqlContext.read.format('csv')\\\n",
    "                    .option('delimiter', ';')\\\n",
    "                    .option(\"quote\", \"\\\"\")\\\n",
    "                    .option(\"escape\", \"\\\"\")\\\n",
    "                    .option(\"inferSchema\", \"true\")\\\n",
    "                    .option('header','true')\\\n",
    "                    .option('wholeText', 'true')\\\n",
    "                    .option('multiLine', 'true')\\\n",
    "                    .load(input_bucket + path_statuses)\n",
    "df_users = sqlContext.read.format('csv') \\\n",
    "                    .option('delimiter', \";\")\\\n",
    "                    .option('header', \"true\")\\\n",
    "                    .option(\"multiLine\", \"true\")\\\n",
    "                    .option('wholeText', 'true')\\\n",
    "                    .option(\"inferSchema\", \"true\")\\\n",
    "                    .load(input_bucket + path_users)"
   ]
  },
  {
   "cell_type": "code",
   "execution_count": 91,
   "id": "adapted-current",
   "metadata": {},
   "outputs": [
    {
     "data": {
      "application/vnd.jupyter.widget-view+json": {
       "model_id": "0e78791f872143eba87f218f142dc995",
       "version_major": 2,
       "version_minor": 0
      },
      "text/plain": [
       "VBox()"
      ]
     },
     "metadata": {},
     "output_type": "display_data"
    },
    {
     "data": {
      "application/vnd.jupyter.widget-view+json": {
       "model_id": "",
       "version_major": 2,
       "version_minor": 0
      },
      "text/plain": [
       "FloatProgress(value=0.0, bar_style='info', description='Progress:', layout=Layout(height='25px', width='50%'),…"
      ]
     },
     "metadata": {},
     "output_type": "display_data"
    },
    {
     "name": "stdout",
     "output_type": "stream",
     "text": [
      "['status_id', 'user_id', 'user_screen_name']"
     ]
    }
   ],
   "source": [
    "df_favorites.columns"
   ]
  },
  {
   "cell_type": "code",
   "execution_count": 205,
   "id": "recorded-aerospace",
   "metadata": {},
   "outputs": [
    {
     "data": {
      "application/vnd.jupyter.widget-view+json": {
       "model_id": "29e30dfecc8540ffb2df6907e5e4bc1f",
       "version_major": 2,
       "version_minor": 0
      },
      "text/plain": [
       "VBox()"
      ]
     },
     "metadata": {},
     "output_type": "display_data"
    },
    {
     "data": {
      "application/vnd.jupyter.widget-view+json": {
       "model_id": "",
       "version_major": 2,
       "version_minor": 0
      },
      "text/plain": [
       "FloatProgress(value=0.0, bar_style='info', description='Progress:', layout=Layout(height='25px', width='50%'),…"
      ]
     },
     "metadata": {},
     "output_type": "display_data"
    },
    {
     "name": "stdout",
     "output_type": "stream",
     "text": [
      "['created_date', 'status_id', 'retweeted_status', 'lang', 'retweet_count', 'source', 'text', 'user_id']"
     ]
    }
   ],
   "source": [
    "df_retweets.columns"
   ]
  },
  {
   "cell_type": "code",
   "execution_count": 206,
   "id": "parental-yield",
   "metadata": {},
   "outputs": [
    {
     "data": {
      "application/vnd.jupyter.widget-view+json": {
       "model_id": "f1b77205a42f48f5992f6ed5f2ce113d",
       "version_major": 2,
       "version_minor": 0
      },
      "text/plain": [
       "VBox()"
      ]
     },
     "metadata": {},
     "output_type": "display_data"
    },
    {
     "data": {
      "application/vnd.jupyter.widget-view+json": {
       "model_id": "",
       "version_major": 2,
       "version_minor": 0
      },
      "text/plain": [
       "FloatProgress(value=0.0, bar_style='info', description='Progress:', layout=Layout(height='25px', width='50%'),…"
      ]
     },
     "metadata": {},
     "output_type": "display_data"
    },
    {
     "name": "stdout",
     "output_type": "stream",
     "text": [
      "['created_date', 'favorites_count', 'status_id', 'lang', 'retweet_count', 'source', 'text', 'truncated', 'user_id']"
     ]
    }
   ],
   "source": [
    "df_statuses.columns"
   ]
  },
  {
   "cell_type": "code",
   "execution_count": 207,
   "id": "worse-renewal",
   "metadata": {},
   "outputs": [
    {
     "data": {
      "application/vnd.jupyter.widget-view+json": {
       "model_id": "5cc9bd5a6b0d430b82a0dd1d39b3d427",
       "version_major": 2,
       "version_minor": 0
      },
      "text/plain": [
       "VBox()"
      ]
     },
     "metadata": {},
     "output_type": "display_data"
    },
    {
     "data": {
      "application/vnd.jupyter.widget-view+json": {
       "model_id": "",
       "version_major": 2,
       "version_minor": 0
      },
      "text/plain": [
       "FloatProgress(value=0.0, bar_style='info', description='Progress:', layout=Layout(height='25px', width='50%'),…"
      ]
     },
     "metadata": {},
     "output_type": "display_data"
    },
    {
     "name": "stdout",
     "output_type": "stream",
     "text": [
      "['user_id', 'user_screen_name', 'friend_id', 'friend_screen_name']"
     ]
    }
   ],
   "source": [
    "df_friends.columns"
   ]
  },
  {
   "cell_type": "code",
   "execution_count": 208,
   "id": "incorporated-sheffield",
   "metadata": {},
   "outputs": [
    {
     "data": {
      "application/vnd.jupyter.widget-view+json": {
       "model_id": "8886d52c46cc4f6c9ea935506c74a393",
       "version_major": 2,
       "version_minor": 0
      },
      "text/plain": [
       "VBox()"
      ]
     },
     "metadata": {},
     "output_type": "display_data"
    },
    {
     "data": {
      "application/vnd.jupyter.widget-view+json": {
       "model_id": "",
       "version_major": 2,
       "version_minor": 0
      },
      "text/plain": [
       "FloatProgress(value=0.0, bar_style='info', description='Progress:', layout=Layout(height='25px', width='50%'),…"
      ]
     },
     "metadata": {},
     "output_type": "display_data"
    },
    {
     "name": "stdout",
     "output_type": "stream",
     "text": [
      "['created_date', 'description', 'favorites_count', 'friends_count', 'user_id', 'listed_count', 'location', 'name', 'screen_name', 'statuses_count', 'url', 'verified']"
     ]
    }
   ],
   "source": [
    "df_users.columns"
   ]
  },
  {
   "cell_type": "markdown",
   "id": "breeding-graph",
   "metadata": {},
   "source": [
    "### Answering analytical questions "
   ]
  },
  {
   "cell_type": "markdown",
   "id": "prostate-amsterdam",
   "metadata": {},
   "source": [
    "#### Q1: Number of statuses by SpaceX account. Answer: 5102"
   ]
  },
  {
   "cell_type": "code",
   "execution_count": 99,
   "id": "proud-memorial",
   "metadata": {},
   "outputs": [
    {
     "data": {
      "application/vnd.jupyter.widget-view+json": {
       "model_id": "04f6b1db6da14f2d84c3637f9285d8a9",
       "version_major": 2,
       "version_minor": 0
      },
      "text/plain": [
       "VBox()"
      ]
     },
     "metadata": {},
     "output_type": "display_data"
    },
    {
     "data": {
      "application/vnd.jupyter.widget-view+json": {
       "model_id": "",
       "version_major": 2,
       "version_minor": 0
      },
      "text/plain": [
       "FloatProgress(value=0.0, bar_style='info', description='Progress:', layout=Layout(height='25px', width='50%'),…"
      ]
     },
     "metadata": {},
     "output_type": "display_data"
    },
    {
     "name": "stdout",
     "output_type": "stream",
     "text": [
      "['created_date,description,favorites_count,friends_count,user_id,listed_count,location,name,screen_name,statuses_count,url,verified']"
     ]
    }
   ],
   "source": [
    "df_users.columns"
   ]
  },
  {
   "cell_type": "code",
   "execution_count": 133,
   "id": "duplicate-farming",
   "metadata": {},
   "outputs": [
    {
     "data": {
      "application/vnd.jupyter.widget-view+json": {
       "model_id": "9aba53003eb3438da3d5bf7eb4d7beb9",
       "version_major": 2,
       "version_minor": 0
      },
      "text/plain": [
       "VBox()"
      ]
     },
     "metadata": {},
     "output_type": "display_data"
    },
    {
     "data": {
      "application/vnd.jupyter.widget-view+json": {
       "model_id": "",
       "version_major": 2,
       "version_minor": 0
      },
      "text/plain": [
       "FloatProgress(value=0.0, bar_style='info', description='Progress:', layout=Layout(height='25px', width='50%'),…"
      ]
     },
     "metadata": {},
     "output_type": "display_data"
    },
    {
     "name": "stdout",
     "output_type": "stream",
     "text": [
      "'5102'"
     ]
    }
   ],
   "source": [
    "df_users.filter(F.col(\"screen_name\").isin(\"SpaceX\")).collect()[0]['statuses_count']"
   ]
  },
  {
   "cell_type": "markdown",
   "id": "ready-award",
   "metadata": {},
   "source": [
    "#### Q2: Which users tweet the most? Answer: screen_name is 'morinaga_angel'"
   ]
  },
  {
   "cell_type": "code",
   "execution_count": 76,
   "id": "concrete-vienna",
   "metadata": {},
   "outputs": [
    {
     "data": {
      "application/vnd.jupyter.widget-view+json": {
       "model_id": "f1291756b2aa4b7f9d28e6fbd0e17e1c",
       "version_major": 2,
       "version_minor": 0
      },
      "text/plain": [
       "VBox()"
      ]
     },
     "metadata": {},
     "output_type": "display_data"
    },
    {
     "data": {
      "application/vnd.jupyter.widget-view+json": {
       "model_id": "",
       "version_major": 2,
       "version_minor": 0
      },
      "text/plain": [
       "FloatProgress(value=0.0, bar_style='info', description='Progress:', layout=Layout(height='25px', width='50%'),…"
      ]
     },
     "metadata": {},
     "output_type": "display_data"
    }
   ],
   "source": [
    "cols = ['user_id', 'name', 'screen_name', 'statuses_count']"
   ]
  },
  {
   "cell_type": "code",
   "execution_count": 137,
   "id": "beginning-success",
   "metadata": {},
   "outputs": [
    {
     "data": {
      "application/vnd.jupyter.widget-view+json": {
       "model_id": "89b8d82f516644649e827150ad18c79c",
       "version_major": 2,
       "version_minor": 0
      },
      "text/plain": [
       "VBox()"
      ]
     },
     "metadata": {},
     "output_type": "display_data"
    },
    {
     "data": {
      "application/vnd.jupyter.widget-view+json": {
       "model_id": "",
       "version_major": 2,
       "version_minor": 0
      },
      "text/plain": [
       "FloatProgress(value=0.0, bar_style='info', description='Progress:', layout=Layout(height='25px', width='50%'),…"
      ]
     },
     "metadata": {},
     "output_type": "display_data"
    },
    {
     "name": "stdout",
     "output_type": "stream",
     "text": [
      "+---------+----------------+---------------+--------------+-----+\n",
      "|  user_id|            name|    screen_name|statuses_count|Value|\n",
      "+---------+----------------+---------------+--------------+-----+\n",
      "|282021927|            ????| morinaga_angel|       4351485| true|\n",
      "|232635988|????????????????|   angelus_0923|       2902274| true|\n",
      "|134971995|           Betty|        missb62|       2758994| true|\n",
      "|113410319|    Vitor Santos|jornalistavitor|       2383144| true|\n",
      "|834672494| Jean M. O'Brien|   Oldlady12345|       2230945| true|\n",
      "+---------+----------------+---------------+--------------+-----+"
     ]
    }
   ],
   "source": [
    "# cast the statuses count to int\n",
    "df_users_q2 = df_users.withColumn(\"statuses_count\", df_users[\"statuses_count\"].cast(IntegerType()))\n",
    "\n",
    "# for when statuses_count are not null, find the the user with the most number of tweets\n",
    "df_users_q2_filtered = df_users_q2.select(*cols, F.col(\"statuses_count\").cast(\"int\").isNotNull().alias(\"Value\"))\\\n",
    "        .filter(F.col(\"Value\")==True).orderBy(\"statuses_count\", ascending=False).limit(5).show()"
   ]
  },
  {
   "cell_type": "markdown",
   "id": "supreme-tooth",
   "metadata": {},
   "source": [
    "#### Q3: What are the number of mentions per twitter user excluding any retweets? "
   ]
  },
  {
   "cell_type": "code",
   "execution_count": 147,
   "id": "pleased-adventure",
   "metadata": {},
   "outputs": [
    {
     "data": {
      "application/vnd.jupyter.widget-view+json": {
       "model_id": "e35cf26e41d243038551bc7541f62ae2",
       "version_major": 2,
       "version_minor": 0
      },
      "text/plain": [
       "VBox()"
      ]
     },
     "metadata": {},
     "output_type": "display_data"
    },
    {
     "data": {
      "application/vnd.jupyter.widget-view+json": {
       "model_id": "",
       "version_major": 2,
       "version_minor": 0
      },
      "text/plain": [
       "FloatProgress(value=0.0, bar_style='info', description='Progress:', layout=Layout(height='25px', width='50%'),…"
      ]
     },
     "metadata": {},
     "output_type": "display_data"
    }
   ],
   "source": [
    "import re"
   ]
  },
  {
   "cell_type": "code",
   "execution_count": 194,
   "id": "limited-thomas",
   "metadata": {},
   "outputs": [
    {
     "data": {
      "application/vnd.jupyter.widget-view+json": {
       "model_id": "8eb00ba90cd34374b1ca4634b9e7b144",
       "version_major": 2,
       "version_minor": 0
      },
      "text/plain": [
       "VBox()"
      ]
     },
     "metadata": {},
     "output_type": "display_data"
    },
    {
     "data": {
      "application/vnd.jupyter.widget-view+json": {
       "model_id": "",
       "version_major": 2,
       "version_minor": 0
      },
      "text/plain": [
       "FloatProgress(value=0.0, bar_style='info', description='Progress:', layout=Layout(height='25px', width='50%'),…"
      ]
     },
     "metadata": {},
     "output_type": "display_data"
    }
   ],
   "source": [
    "def get_all_mentions(df):\n",
    "    ''' get all mentions from df_statuses'''\n",
    "    search_string = r'\\b@\\w+'\n",
    "    text_with_mentions = df.filter(df['text'].rlike(search_string)).select('text')\n",
    "    text_with_mentions_list = [row['text'] for row in text_with_mentions.collect()]\n",
    "    return [mention for mention in ' '.join(text_with_mentions_list).split() if mention[0]=='@']"
   ]
  },
  {
   "cell_type": "code",
   "execution_count": 195,
   "id": "weighted-valley",
   "metadata": {},
   "outputs": [
    {
     "data": {
      "application/vnd.jupyter.widget-view+json": {
       "model_id": "92986cbe0db84578874cce1cba38e225",
       "version_major": 2,
       "version_minor": 0
      },
      "text/plain": [
       "VBox()"
      ]
     },
     "metadata": {},
     "output_type": "display_data"
    },
    {
     "data": {
      "application/vnd.jupyter.widget-view+json": {
       "model_id": "",
       "version_major": 2,
       "version_minor": 0
      },
      "text/plain": [
       "FloatProgress(value=0.0, bar_style='info', description='Progress:', layout=Layout(height='25px', width='50%'),…"
      ]
     },
     "metadata": {},
     "output_type": "display_data"
    }
   ],
   "source": [
    "all_mentions = get_all_mentions(df_statuses)"
   ]
  },
  {
   "cell_type": "code",
   "execution_count": 193,
   "id": "middle-transaction",
   "metadata": {},
   "outputs": [
    {
     "data": {
      "application/vnd.jupyter.widget-view+json": {
       "model_id": "",
       "version_major": 2,
       "version_minor": 0
      },
      "text/plain": [
       "VBox()"
      ]
     },
     "metadata": {},
     "output_type": "display_data"
    },
    {
     "data": {
      "application/vnd.jupyter.widget-view+json": {
       "model_id": "",
       "version_major": 2,
       "version_minor": 0
      },
      "text/plain": [
       "FloatProgress(value=0.0, bar_style='info', description='Progress:', layout=Layout(height='25px', width='50%'),…"
      ]
     },
     "metadata": {},
     "output_type": "display_data"
    },
    {
     "name": "stdout",
     "output_type": "stream",
     "text": [
      "+--------------------+\n",
      "|                text|\n",
      "+--------------------+\n",
      "|We're at #IROS201...|\n",
      "|#lionking@Sethrog...|\n",
      "|@squarerootsgrow ...|\n",
      "|@ComdtUSCG @USCG ...|\n",
      "|Job Vacancy!Tell ...|\n",
      "+--------------------+"
     ]
    }
   ],
   "source": [
    "search_string = r'\\b@\\w+'\n",
    "all_mentions = df_statuses.filter(df_statuses['text'].rlike(search_string)).select('text').limit(5).show()"
   ]
  },
  {
   "cell_type": "code",
   "execution_count": null,
   "id": "acting-aruba",
   "metadata": {},
   "outputs": [],
   "source": []
  },
  {
   "cell_type": "markdown",
   "id": "forty-variance",
   "metadata": {},
   "source": [
    "#### Q4: How many statuses mention \"SpaceX\"? "
   ]
  },
  {
   "cell_type": "code",
   "execution_count": 209,
   "id": "suburban-russian",
   "metadata": {},
   "outputs": [
    {
     "data": {
      "application/vnd.jupyter.widget-view+json": {
       "model_id": "0b0089dec19245ba9363025236a737d7",
       "version_major": 2,
       "version_minor": 0
      },
      "text/plain": [
       "VBox()"
      ]
     },
     "metadata": {},
     "output_type": "display_data"
    },
    {
     "data": {
      "application/vnd.jupyter.widget-view+json": {
       "model_id": "",
       "version_major": 2,
       "version_minor": 0
      },
      "text/plain": [
       "FloatProgress(value=0.0, bar_style='info', description='Progress:', layout=Layout(height='25px', width='50%'),…"
      ]
     },
     "metadata": {},
     "output_type": "display_data"
    },
    {
     "name": "stdout",
     "output_type": "stream",
     "text": [
      "['created_date', 'favorites_count', 'status_id', 'lang', 'retweet_count', 'source', 'text', 'truncated', 'user_id']"
     ]
    }
   ],
   "source": [
    "df_statuses.columns"
   ]
  },
  {
   "cell_type": "code",
   "execution_count": 210,
   "id": "amazing-speech",
   "metadata": {},
   "outputs": [
    {
     "data": {
      "application/vnd.jupyter.widget-view+json": {
       "model_id": "08525518165a4a90a77144c208553e34",
       "version_major": 2,
       "version_minor": 0
      },
      "text/plain": [
       "VBox()"
      ]
     },
     "metadata": {},
     "output_type": "display_data"
    },
    {
     "data": {
      "application/vnd.jupyter.widget-view+json": {
       "model_id": "",
       "version_major": 2,
       "version_minor": 0
      },
      "text/plain": [
       "FloatProgress(value=0.0, bar_style='info', description='Progress:', layout=Layout(height='25px', width='50%'),…"
      ]
     },
     "metadata": {},
     "output_type": "display_data"
    },
    {
     "name": "stdout",
     "output_type": "stream",
     "text": [
      "2885"
     ]
    }
   ],
   "source": [
    "df_statuses.select('text').filter(\"lower(text) like '%spacex%'\").count()"
   ]
  },
  {
   "cell_type": "code",
   "execution_count": 211,
   "id": "international-brighton",
   "metadata": {},
   "outputs": [
    {
     "data": {
      "application/vnd.jupyter.widget-view+json": {
       "model_id": "670775bf96ff4e3e853a5b2f58ba4eb7",
       "version_major": 2,
       "version_minor": 0
      },
      "text/plain": [
       "VBox()"
      ]
     },
     "metadata": {},
     "output_type": "display_data"
    },
    {
     "data": {
      "application/vnd.jupyter.widget-view+json": {
       "model_id": "",
       "version_major": 2,
       "version_minor": 0
      },
      "text/plain": [
       "FloatProgress(value=0.0, bar_style='info', description='Progress:', layout=Layout(height='25px', width='50%'),…"
      ]
     },
     "metadata": {},
     "output_type": "display_data"
    },
    {
     "name": "stdout",
     "output_type": "stream",
     "text": [
      "189666"
     ]
    }
   ],
   "source": [
    "df_statuses.count()"
   ]
  },
  {
   "cell_type": "code",
   "execution_count": null,
   "id": "proper-petersburg",
   "metadata": {},
   "outputs": [],
   "source": []
  }
 ],
 "metadata": {
  "kernelspec": {
   "display_name": "PySpark",
   "language": "",
   "name": "pysparkkernel"
  },
  "language_info": {
   "codemirror_mode": {
    "name": "python",
    "version": 3
   },
   "mimetype": "text/x-python",
   "name": "pyspark",
   "pygments_lexer": "python3"
  }
 },
 "nbformat": 4,
 "nbformat_minor": 5
}
