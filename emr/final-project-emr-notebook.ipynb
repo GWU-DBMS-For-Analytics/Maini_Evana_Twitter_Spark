{
 "cells": [
  {
   "cell_type": "code",
   "execution_count": 1,
   "id": "economic-article",
   "metadata": {},
   "outputs": [
    {
     "data": {
      "application/vnd.jupyter.widget-view+json": {
       "model_id": "849e7695286d488fadc57e5d1bc9ed12",
       "version_major": 2,
       "version_minor": 0
      },
      "text/plain": [
       "VBox()"
      ]
     },
     "metadata": {},
     "output_type": "display_data"
    },
    {
     "name": "stdout",
     "output_type": "stream",
     "text": [
      "Starting Spark application\n"
     ]
    },
    {
     "data": {
      "text/html": [
       "<table>\n",
       "<tr><th>ID</th><th>YARN Application ID</th><th>Kind</th><th>State</th><th>Spark UI</th><th>Driver log</th><th>Current session?</th></tr><tr><td>1</td><td>application_1618174410410_0002</td><td>pyspark</td><td>idle</td><td></td><td></td><td>✔</td></tr></table>"
      ],
      "text/plain": [
       "<IPython.core.display.HTML object>"
      ]
     },
     "metadata": {},
     "output_type": "display_data"
    },
    {
     "data": {
      "application/vnd.jupyter.widget-view+json": {
       "model_id": "",
       "version_major": 2,
       "version_minor": 0
      },
      "text/plain": [
       "FloatProgress(value=0.0, bar_style='info', description='Progress:', layout=Layout(height='25px', width='50%'),…"
      ]
     },
     "metadata": {},
     "output_type": "display_data"
    },
    {
     "name": "stdout",
     "output_type": "stream",
     "text": [
      "SparkSession available as 'spark'.\n"
     ]
    },
    {
     "data": {
      "application/vnd.jupyter.widget-view+json": {
       "model_id": "",
       "version_major": 2,
       "version_minor": 0
      },
      "text/plain": [
       "FloatProgress(value=0.0, bar_style='info', description='Progress:', layout=Layout(height='25px', width='50%'),…"
      ]
     },
     "metadata": {},
     "output_type": "display_data"
    }
   ],
   "source": [
    "import pyspark"
   ]
  },
  {
   "cell_type": "code",
   "execution_count": 2,
   "id": "monthly-edition",
   "metadata": {},
   "outputs": [
    {
     "data": {
      "application/vnd.jupyter.widget-view+json": {
       "model_id": "b6e8fdf45ecc4d1a8e1b00461b870948",
       "version_major": 2,
       "version_minor": 0
      },
      "text/plain": [
       "VBox()"
      ]
     },
     "metadata": {},
     "output_type": "display_data"
    },
    {
     "data": {
      "application/vnd.jupyter.widget-view+json": {
       "model_id": "",
       "version_major": 2,
       "version_minor": 0
      },
      "text/plain": [
       "FloatProgress(value=0.0, bar_style='info', description='Progress:', layout=Layout(height='25px', width='50%'),…"
      ]
     },
     "metadata": {},
     "output_type": "display_data"
    }
   ],
   "source": [
    "from pyspark.sql import functions as F"
   ]
  },
  {
   "cell_type": "code",
   "execution_count": 25,
   "id": "known-charlotte",
   "metadata": {},
   "outputs": [
    {
     "data": {
      "application/vnd.jupyter.widget-view+json": {
       "model_id": "90720cccd3ed4f6f9f7472a1bb20e581",
       "version_major": 2,
       "version_minor": 0
      },
      "text/plain": [
       "VBox()"
      ]
     },
     "metadata": {},
     "output_type": "display_data"
    },
    {
     "data": {
      "application/vnd.jupyter.widget-view+json": {
       "model_id": "",
       "version_major": 2,
       "version_minor": 0
      },
      "text/plain": [
       "FloatProgress(value=0.0, bar_style='info', description='Progress:', layout=Layout(height='25px', width='50%'),…"
      ]
     },
     "metadata": {},
     "output_type": "display_data"
    }
   ],
   "source": [
    "from pyspark.sql import SQLContext\n",
    "from pyspark.sql.types import *\n",
    "from pyspark.sql.types import IntegerType\n",
    "from pyspark.sql.functions import lower, col\n",
    "from collections import Counter\n",
    "import pandas as pd\n",
    "import re\n",
    "sqlContext = SQLContext(sc)"
   ]
  },
  {
   "cell_type": "code",
   "execution_count": 4,
   "id": "private-parts",
   "metadata": {},
   "outputs": [
    {
     "data": {
      "application/vnd.jupyter.widget-view+json": {
       "model_id": "1208f5f9f1114fdfbd54daf7be1f0ad9",
       "version_major": 2,
       "version_minor": 0
      },
      "text/plain": [
       "VBox()"
      ]
     },
     "metadata": {},
     "output_type": "display_data"
    },
    {
     "data": {
      "application/vnd.jupyter.widget-view+json": {
       "model_id": "",
       "version_major": 2,
       "version_minor": 0
      },
      "text/plain": [
       "FloatProgress(value=0.0, bar_style='info', description='Progress:', layout=Layout(height='25px', width='50%'),…"
      ]
     },
     "metadata": {},
     "output_type": "display_data"
    }
   ],
   "source": [
    "input_bucket = 's3://final-project-spark-twitter-date'\n",
    "path_favorites = '/data/favorites.csv'\n",
    "path_friends = '/data/Friends.csv'\n",
    "path_retweets = '/data/Retweets.csv'\n",
    "path_statuses = '/data/statuses_colon.csv'\n",
    "path_users = '/data/users_colon.csv'"
   ]
  },
  {
   "cell_type": "code",
   "execution_count": 5,
   "id": "olympic-abraham",
   "metadata": {},
   "outputs": [
    {
     "data": {
      "application/vnd.jupyter.widget-view+json": {
       "model_id": "eb444d2bcc74430d8f014041830d013e",
       "version_major": 2,
       "version_minor": 0
      },
      "text/plain": [
       "VBox()"
      ]
     },
     "metadata": {},
     "output_type": "display_data"
    },
    {
     "data": {
      "application/vnd.jupyter.widget-view+json": {
       "model_id": "",
       "version_major": 2,
       "version_minor": 0
      },
      "text/plain": [
       "FloatProgress(value=0.0, bar_style='info', description='Progress:', layout=Layout(height='25px', width='50%'),…"
      ]
     },
     "metadata": {},
     "output_type": "display_data"
    }
   ],
   "source": [
    "# reading in the different tables\n",
    "df_favorites = sqlContext.read.format('csv').option(\"inferSchema\", \"true\").option('header','true').load(input_bucket + path_favorites)\n",
    "df_friends = sqlContext.read.format('csv').option(\"inferSchema\", \"true\").option('header','true').load(input_bucket + path_friends)\n",
    "df_retweets = sqlContext.read.format('csv').option(\"inferSchema\", \"true\").option('header','true').load(input_bucket + path_retweets)\n",
    "df_statuses = sqlContext.read.format('csv')\\\n",
    "                    .option('delimiter', ';')\\\n",
    "                    .option(\"quote\", \"\\\"\")\\\n",
    "                    .option(\"escape\", \"\\\"\")\\\n",
    "                    .option(\"inferSchema\", \"true\")\\\n",
    "                    .option('header','true')\\\n",
    "                    .option('wholeText', 'true')\\\n",
    "                    .option('multiLine', 'true')\\\n",
    "                    .load(input_bucket + path_statuses)\n",
    "df_users = sqlContext.read.format('csv') \\\n",
    "                    .option('delimiter', \";\")\\\n",
    "                    .option('header', \"true\")\\\n",
    "                    .option(\"multiLine\", \"true\")\\\n",
    "                    .option('wholeText', 'true')\\\n",
    "                    .option(\"inferSchema\", \"true\")\\\n",
    "                    .load(input_bucket + path_users)"
   ]
  },
  {
   "cell_type": "markdown",
   "id": "breeding-graph",
   "metadata": {},
   "source": [
    "## Answering analytical questions "
   ]
  },
  {
   "cell_type": "markdown",
   "id": "prostate-amsterdam",
   "metadata": {},
   "source": [
    "#### Q1: Number of statuses by SpaceX account. Answer: 5102"
   ]
  },
  {
   "cell_type": "code",
   "execution_count": 12,
   "id": "duplicate-farming",
   "metadata": {},
   "outputs": [
    {
     "data": {
      "application/vnd.jupyter.widget-view+json": {
       "model_id": "c0c11fbbb42b4e4aa1a2095dccfd7522",
       "version_major": 2,
       "version_minor": 0
      },
      "text/plain": [
       "VBox()"
      ]
     },
     "metadata": {},
     "output_type": "display_data"
    },
    {
     "data": {
      "application/vnd.jupyter.widget-view+json": {
       "model_id": "",
       "version_major": 2,
       "version_minor": 0
      },
      "text/plain": [
       "FloatProgress(value=0.0, bar_style='info', description='Progress:', layout=Layout(height='25px', width='50%'),…"
      ]
     },
     "metadata": {},
     "output_type": "display_data"
    },
    {
     "name": "stdout",
     "output_type": "stream",
     "text": [
      "'5102'"
     ]
    }
   ],
   "source": [
    "df_users.filter(F.col(\"screen_name\").isin(\"SpaceX\")).collect()[0]['statuses_count']"
   ]
  },
  {
   "cell_type": "markdown",
   "id": "unavailable-ballot",
   "metadata": {},
   "source": [
    "There are 5102 statuses for \"SpaceX\" Twitter user"
   ]
  },
  {
   "cell_type": "markdown",
   "id": "ready-award",
   "metadata": {},
   "source": [
    "#### Q2: Which users tweet the most? Answer: screen_name is 'morinaga_angel'"
   ]
  },
  {
   "cell_type": "code",
   "execution_count": 69,
   "id": "beginning-success",
   "metadata": {},
   "outputs": [
    {
     "data": {
      "application/vnd.jupyter.widget-view+json": {
       "model_id": "117acae34192410cb8e0c752cd9ac695",
       "version_major": 2,
       "version_minor": 0
      },
      "text/plain": [
       "VBox()"
      ]
     },
     "metadata": {},
     "output_type": "display_data"
    },
    {
     "data": {
      "application/vnd.jupyter.widget-view+json": {
       "model_id": "",
       "version_major": 2,
       "version_minor": 0
      },
      "text/plain": [
       "FloatProgress(value=0.0, bar_style='info', description='Progress:', layout=Layout(height='25px', width='50%'),…"
      ]
     },
     "metadata": {},
     "output_type": "display_data"
    },
    {
     "name": "stdout",
     "output_type": "stream",
     "text": [
      "+---------+----+--------------+--------------+-----+\n",
      "|  user_id|name|   screen_name|statuses_count|Value|\n",
      "+---------+----+--------------+--------------+-----+\n",
      "|282021927|????|morinaga_angel|       4351485| true|\n",
      "+---------+----+--------------+--------------+-----+"
     ]
    }
   ],
   "source": [
    "# These are the columns that we will filter for \n",
    "cols = ['user_id', 'name', 'screen_name', 'statuses_count']\n",
    "\n",
    "# cast the statuses count to int\n",
    "df_users_q2 = df_users.withColumn(\"statuses_count\", df_users[\"statuses_count\"].cast(IntegerType()))\n",
    "\n",
    "# for when statuses_count are not null, find the the user with the most number of tweets\n",
    "df_users_q2_filtered = df_users_q2.select(*cols, F.col(\"statuses_count\").cast(\"int\").isNotNull().alias(\"Value\"))\\\n",
    "        .filter(F.col(\"Value\")==True).orderBy(\"statuses_count\", ascending=False).limit(1).show()"
   ]
  },
  {
   "cell_type": "markdown",
   "id": "downtown-diabetes",
   "metadata": {},
   "source": [
    "Twitter user \"morinaga_angel\" has the most tweets in the twitter dataset. As shown above, the name of the user has been substitued with \"?\" because the characters are in Chinese and are not available in the utf-8 encoding. "
   ]
  },
  {
   "cell_type": "markdown",
   "id": "supreme-tooth",
   "metadata": {},
   "source": [
    "#### Q3: What are the number of mentions per twitter user excluding any retweets? "
   ]
  },
  {
   "cell_type": "code",
   "execution_count": 42,
   "id": "limited-thomas",
   "metadata": {},
   "outputs": [
    {
     "data": {
      "application/vnd.jupyter.widget-view+json": {
       "model_id": "75877a5261f4449b9e53845b6df5daf1",
       "version_major": 2,
       "version_minor": 0
      },
      "text/plain": [
       "VBox()"
      ]
     },
     "metadata": {},
     "output_type": "display_data"
    },
    {
     "data": {
      "application/vnd.jupyter.widget-view+json": {
       "model_id": "",
       "version_major": 2,
       "version_minor": 0
      },
      "text/plain": [
       "FloatProgress(value=0.0, bar_style='info', description='Progress:', layout=Layout(height='25px', width='50%'),…"
      ]
     },
     "metadata": {},
     "output_type": "display_data"
    }
   ],
   "source": [
    "def get_all_mentions(df):\n",
    "    ''' get all mentions from df_statuses text field'''\n",
    "    search_string = r'\\b(?<=@)\\w+'\n",
    "    text_with_mentions = df.filter(df['text'].rlike(search_string)).select('text')\n",
    "    text_with_mentions_list = [row['text'] for row in text_with_mentions.collect()]\n",
    "    return [mention.split('@')[1] for mention in ' '.join(text_with_mentions_list).split() if mention[0]=='@']"
   ]
  },
  {
   "cell_type": "code",
   "execution_count": 67,
   "id": "weighted-valley",
   "metadata": {},
   "outputs": [
    {
     "data": {
      "application/vnd.jupyter.widget-view+json": {
       "model_id": "1bca85c5d30a4a56a583a7ee8a65213e",
       "version_major": 2,
       "version_minor": 0
      },
      "text/plain": [
       "VBox()"
      ]
     },
     "metadata": {},
     "output_type": "display_data"
    },
    {
     "data": {
      "application/vnd.jupyter.widget-view+json": {
       "model_id": "",
       "version_major": 2,
       "version_minor": 0
      },
      "text/plain": [
       "FloatProgress(value=0.0, bar_style='info', description='Progress:', layout=Layout(height='25px', width='50%'),…"
      ]
     },
     "metadata": {},
     "output_type": "display_data"
    }
   ],
   "source": [
    "# get all mentions from the \"statuses\" table\n",
    "all_mentions = get_all_mentions(df_statuses)\n",
    "\n",
    "# convert list of mentions to value counts \n",
    "all_mentions_counts = Counter(all_mentions)\n",
    "\n",
    "# convert the collections.Counter dictionary to a pandas dataframe\n",
    "all_mentions_counts_df = pd.DataFrame.from_dict(all_mentions_counts, orient='index', columns=['mention_count']).reset_index()\n",
    "all_mentions_counts_df.rename(columns={'index':'screen_name'}, inplace=True)\n",
    "\n",
    "# converting from pandas to spark df so we can join them together\n",
    "all_mentions_counts_sp = spark.createDataFrame(all_mentions_counts_df)"
   ]
  },
  {
   "cell_type": "code",
   "execution_count": 70,
   "id": "acting-aruba",
   "metadata": {},
   "outputs": [
    {
     "data": {
      "application/vnd.jupyter.widget-view+json": {
       "model_id": "daabcc18898245219a8d9a7e994a028e",
       "version_major": 2,
       "version_minor": 0
      },
      "text/plain": [
       "VBox()"
      ]
     },
     "metadata": {},
     "output_type": "display_data"
    },
    {
     "data": {
      "application/vnd.jupyter.widget-view+json": {
       "model_id": "",
       "version_major": 2,
       "version_minor": 0
      },
      "text/plain": [
       "FloatProgress(value=0.0, bar_style='info', description='Progress:', layout=Layout(height='25px', width='50%'),…"
      ]
     },
     "metadata": {},
     "output_type": "display_data"
    }
   ],
   "source": [
    "# inner merge on the df_users table to only get the count for users that are in our dataset\n",
    "user_mentions = df_users.join(all_mentions_counts_sp, on='screen_name', how='inner')"
   ]
  },
  {
   "cell_type": "markdown",
   "id": "removable-poster",
   "metadata": {},
   "source": [
    "These are the top 5 Twitter users in our dataset that are mentioned the most in twitter statuses."
   ]
  },
  {
   "cell_type": "code",
   "execution_count": 71,
   "id": "alert-white",
   "metadata": {},
   "outputs": [
    {
     "data": {
      "application/vnd.jupyter.widget-view+json": {
       "model_id": "8b8f4c2974524792bdec323751fcfaa7",
       "version_major": 2,
       "version_minor": 0
      },
      "text/plain": [
       "VBox()"
      ]
     },
     "metadata": {},
     "output_type": "display_data"
    },
    {
     "data": {
      "application/vnd.jupyter.widget-view+json": {
       "model_id": "",
       "version_major": 2,
       "version_minor": 0
      },
      "text/plain": [
       "FloatProgress(value=0.0, bar_style='info', description='Progress:', layout=Layout(height='25px', width='50%'),…"
      ]
     },
     "metadata": {},
     "output_type": "display_data"
    },
    {
     "name": "stdout",
     "output_type": "stream",
     "text": [
      "+-------------+-------------+\n",
      "|  screen_name|mention_count|\n",
      "+-------------+-------------+\n",
      "|     elonmusk|         1635|\n",
      "|         NASA|         1427|\n",
      "|       SpaceX|         1376|\n",
      "|Space_Station|         1304|\n",
      "|        Tesla|         1215|\n",
      "+-------------+-------------+"
     ]
    }
   ],
   "source": [
    "user_mentions.select('screen_name', 'mention_count').orderBy('mention_count', ascending=False).limit(5).show()"
   ]
  },
  {
   "cell_type": "markdown",
   "id": "forty-variance",
   "metadata": {},
   "source": [
    "#### Q4: How many statuses mention \"SpaceX\"? "
   ]
  },
  {
   "cell_type": "code",
   "execution_count": 65,
   "id": "amazing-speech",
   "metadata": {},
   "outputs": [
    {
     "data": {
      "application/vnd.jupyter.widget-view+json": {
       "model_id": "ecbb8497b8eb43e688473908178a7d17",
       "version_major": 2,
       "version_minor": 0
      },
      "text/plain": [
       "VBox()"
      ]
     },
     "metadata": {},
     "output_type": "display_data"
    },
    {
     "data": {
      "application/vnd.jupyter.widget-view+json": {
       "model_id": "",
       "version_major": 2,
       "version_minor": 0
      },
      "text/plain": [
       "FloatProgress(value=0.0, bar_style='info', description='Progress:', layout=Layout(height='25px', width='50%'),…"
      ]
     },
     "metadata": {},
     "output_type": "display_data"
    },
    {
     "name": "stdout",
     "output_type": "stream",
     "text": [
      "2885"
     ]
    }
   ],
   "source": [
    "df_statuses.select('text').filter(\"lower(text) like '%spacex%'\").count()"
   ]
  },
  {
   "cell_type": "markdown",
   "id": "delayed-rescue",
   "metadata": {},
   "source": [
    "There are 2885 statuses that mention the word \"spacex\". We ensured to lowercase the text and find the word \"spacex\" so we were as conclusive as possible. "
   ]
  }
 ],
 "metadata": {
  "kernelspec": {
   "display_name": "PySpark",
   "language": "",
   "name": "pysparkkernel"
  },
  "language_info": {
   "codemirror_mode": {
    "name": "python",
    "version": 3
   },
   "mimetype": "text/x-python",
   "name": "pyspark",
   "pygments_lexer": "python3"
  }
 },
 "nbformat": 4,
 "nbformat_minor": 5
}
